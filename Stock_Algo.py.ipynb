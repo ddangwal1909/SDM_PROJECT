{
 "cells": [
  {
   "cell_type": "code",
   "execution_count": 200,
   "metadata": {},
   "outputs": [
    {
     "name": "stdout",
     "output_type": "stream",
     "text": [
      "Requirement already satisfied: yfinance in c:\\users\\hp\\anaconda3\\lib\\site-packages (0.1.67)\n",
      "Requirement already satisfied: lxml>=4.5.1 in c:\\users\\hp\\anaconda3\\lib\\site-packages (from yfinance) (4.6.1)\n",
      "Requirement already satisfied: pandas>=0.24 in c:\\users\\hp\\anaconda3\\lib\\site-packages (from yfinance) (1.1.3)\n",
      "Requirement already satisfied: requests>=2.20 in c:\\users\\hp\\anaconda3\\lib\\site-packages (from yfinance) (2.24.0)\n",
      "Requirement already satisfied: multitasking>=0.0.7 in c:\\users\\hp\\anaconda3\\lib\\site-packages (from yfinance) (0.0.10)\n",
      "Requirement already satisfied: numpy>=1.15 in c:\\users\\hp\\anaconda3\\lib\\site-packages (from yfinance) (1.21.4)\n",
      "Requirement already satisfied: pytz>=2017.2 in c:\\users\\hp\\anaconda3\\lib\\site-packages (from pandas>=0.24->yfinance) (2020.1)\n",
      "Requirement already satisfied: python-dateutil>=2.7.3 in c:\\users\\hp\\anaconda3\\lib\\site-packages (from pandas>=0.24->yfinance) (2.7.5)\n",
      "Requirement already satisfied: certifi>=2017.4.17 in c:\\users\\hp\\anaconda3\\lib\\site-packages (from requests>=2.20->yfinance) (2020.6.20)\n",
      "Requirement already satisfied: idna<3,>=2.5 in c:\\users\\hp\\anaconda3\\lib\\site-packages (from requests>=2.20->yfinance) (2.10)\n",
      "Requirement already satisfied: urllib3!=1.25.0,!=1.25.1,<1.26,>=1.21.1 in c:\\users\\hp\\anaconda3\\lib\\site-packages (from requests>=2.20->yfinance) (1.25.11)\n",
      "Requirement already satisfied: chardet<4,>=3.0.2 in c:\\users\\hp\\anaconda3\\lib\\site-packages (from requests>=2.20->yfinance) (3.0.4)\n",
      "Requirement already satisfied: six>=1.5 in c:\\users\\hp\\anaconda3\\lib\\site-packages (from python-dateutil>=2.7.3->pandas>=0.24->yfinance) (1.16.0)\n",
      "Requirement already satisfied: newsapi-python in c:\\users\\hp\\anaconda3\\lib\\site-packages (0.2.6)\n",
      "Requirement already satisfied: requests<3.0.0 in c:\\users\\hp\\anaconda3\\lib\\site-packages (from newsapi-python) (2.24.0)\n",
      "Requirement already satisfied: certifi>=2017.4.17 in c:\\users\\hp\\anaconda3\\lib\\site-packages (from requests<3.0.0->newsapi-python) (2020.6.20)\n",
      "Requirement already satisfied: chardet<4,>=3.0.2 in c:\\users\\hp\\anaconda3\\lib\\site-packages (from requests<3.0.0->newsapi-python) (3.0.4)\n",
      "Requirement already satisfied: idna<3,>=2.5 in c:\\users\\hp\\anaconda3\\lib\\site-packages (from requests<3.0.0->newsapi-python) (2.10)\n",
      "Requirement already satisfied: urllib3!=1.25.0,!=1.25.1,<1.26,>=1.21.1 in c:\\users\\hp\\anaconda3\\lib\\site-packages (from requests<3.0.0->newsapi-python) (1.25.11)\n",
      "Requirement already satisfied: pmdarima in c:\\users\\hp\\appdata\\roaming\\python\\python38\\site-packages (1.8.4)\n",
      "Requirement already satisfied: setuptools!=50.0.0,>=38.6.0 in c:\\users\\hp\\anaconda3\\lib\\site-packages (from pmdarima) (50.3.1.post20201107)\n",
      "Requirement already satisfied: scikit-learn>=0.22 in c:\\users\\hp\\anaconda3\\lib\\site-packages (from pmdarima) (0.23.2)\n",
      "Requirement already satisfied: pandas>=0.19 in c:\\users\\hp\\anaconda3\\lib\\site-packages (from pmdarima) (1.1.3)\n",
      "Requirement already satisfied: Cython!=0.29.18,>=0.29 in c:\\users\\hp\\anaconda3\\lib\\site-packages (from pmdarima) (0.29.21)\n",
      "Requirement already satisfied: joblib>=0.11 in c:\\users\\hp\\anaconda3\\lib\\site-packages (from pmdarima) (1.1.0)\n",
      "Requirement already satisfied: urllib3 in c:\\users\\hp\\anaconda3\\lib\\site-packages (from pmdarima) (1.25.11)\n",
      "Requirement already satisfied: numpy>=1.19.3 in c:\\users\\hp\\anaconda3\\lib\\site-packages (from pmdarima) (1.21.4)\n",
      "Requirement already satisfied: scipy>=1.3.2 in c:\\users\\hp\\anaconda3\\lib\\site-packages (from pmdarima) (1.5.2)\n",
      "Requirement already satisfied: statsmodels!=0.12.0,>=0.11 in c:\\users\\hp\\anaconda3\\lib\\site-packages (from pmdarima) (0.13.1)\n",
      "Requirement already satisfied: threadpoolctl>=2.0.0 in c:\\users\\hp\\anaconda3\\lib\\site-packages (from scikit-learn>=0.22->pmdarima) (2.1.0)\n",
      "Requirement already satisfied: pytz>=2017.2 in c:\\users\\hp\\anaconda3\\lib\\site-packages (from pandas>=0.19->pmdarima) (2020.1)\n",
      "Requirement already satisfied: python-dateutil>=2.7.3 in c:\\users\\hp\\anaconda3\\lib\\site-packages (from pandas>=0.19->pmdarima) (2.7.5)\n",
      "Requirement already satisfied: patsy>=0.5.2 in c:\\users\\hp\\anaconda3\\lib\\site-packages (from statsmodels!=0.12.0,>=0.11->pmdarima) (0.5.2)\n",
      "Requirement already satisfied: six>=1.5 in c:\\users\\hp\\anaconda3\\lib\\site-packages (from python-dateutil>=2.7.3->pandas>=0.19->pmdarima) (1.16.0)\n",
      "Collecting visualize\n",
      "  Downloading visualize-0.5.1.tar.gz (63 kB)\n",
      "Requirement already satisfied: numpy in c:\\users\\hp\\anaconda3\\lib\\site-packages (from visualize) (1.21.4)\n",
      "Collecting opencv-python\n",
      "  Downloading opencv_python-4.5.4.60-cp38-cp38-win_amd64.whl (35.1 MB)\n",
      "Requirement already satisfied: matplotlib in c:\\users\\hp\\anaconda3\\lib\\site-packages (from visualize) (3.3.2)\n",
      "Requirement already satisfied: Pillow in c:\\users\\hp\\anaconda3\\lib\\site-packages (from visualize) (8.0.1)\n",
      "Requirement already satisfied: certifi>=2020.06.20 in c:\\users\\hp\\anaconda3\\lib\\site-packages (from matplotlib->visualize) (2020.6.20)\n",
      "Requirement already satisfied: cycler>=0.10 in c:\\users\\hp\\anaconda3\\lib\\site-packages (from matplotlib->visualize) (0.10.0)\n",
      "Requirement already satisfied: kiwisolver>=1.0.1 in c:\\users\\hp\\anaconda3\\lib\\site-packages (from matplotlib->visualize) (1.3.0)\n",
      "Requirement already satisfied: pyparsing!=2.0.4,!=2.1.2,!=2.1.6,>=2.0.3 in c:\\users\\hp\\anaconda3\\lib\\site-packages (from matplotlib->visualize) (2.4.7)\n",
      "Requirement already satisfied: python-dateutil>=2.1 in c:\\users\\hp\\anaconda3\\lib\\site-packages (from matplotlib->visualize) (2.7.5)\n",
      "Requirement already satisfied: six in c:\\users\\hp\\anaconda3\\lib\\site-packages (from cycler>=0.10->matplotlib->visualize) (1.16.0)\n",
      "Building wheels for collected packages: visualize\n",
      "  Building wheel for visualize (setup.py): started\n",
      "  Building wheel for visualize (setup.py): finished with status 'done'\n",
      "  Created wheel for visualize: filename=visualize-0.5.1-py3-none-any.whl size=11467 sha256=2435ee1c8e3781900783f3114cfdbff550aa628004b0cc9e4ff8690354aed746\n",
      "  Stored in directory: c:\\users\\hp\\appdata\\local\\pip\\cache\\wheels\\9d\\06\\26\\944128c987db913298520c2b476bb652faf6a5d00accb3f59c\n",
      "Successfully built visualize\n",
      "Installing collected packages: opencv-python, visualize\n",
      "Successfully installed opencv-python-4.5.4.60 visualize-0.5.1\n"
     ]
    }
   ],
   "source": [
    "!pip install yfinance\n",
    "!pip install newsapi-python\n",
    "!pip install pmdarima\n",
    "!pip install visualize\n",
    "!pip install pmdarima --user"
   ]
  },
  {
   "cell_type": "code",
   "execution_count": null,
   "metadata": {},
   "outputs": [],
   "source": []
  },
  {
   "cell_type": "code",
   "execution_count": null,
   "metadata": {},
   "outputs": [],
   "source": [
    "\n"
   ]
  },
  {
   "cell_type": "code",
   "execution_count": 5,
   "metadata": {},
   "outputs": [],
   "source": [
    "import yfinance as yf\n",
    "from statsmodels.tsa.arima_model import ARIMA\n",
    "from newsapi import NewsApiClient\n",
    "import pandas as pd\n",
    "from pmdarima import auto_arima\n",
    "from statsmodels.tsa.statespace.sarimax import SARIMAX\n",
    "from sklearn.preprocessing import MinMaxScaler\n",
    "from keras.layers.core import Dense, Activation, Dropout\n",
    "from keras.layers.recurrent import LSTM\n",
    "from keras.models import Sequential\n",
    "import matplotlib.pyplot as plt\n",
    "from sklearn import linear_model\n",
    "import numpy as np\n",
    "import math\n",
    "from sklearn.metrics import mean_squared_error\n",
    "\n",
    "# Ignore harmless warnings\n",
    "import warnings\n",
    "warnings.filterwarnings(\"ignore\")"
   ]
  },
  {
   "cell_type": "code",
   "execution_count": 7,
   "metadata": {},
   "outputs": [],
   "source": [
    "def plot_basic(stocks, title='Close Price', y_label='Price USD', x_label='Trading Days'):\n",
    "    fig, ax = plt.subplots()\n",
    "    ax.plot(stocks['Close'], '#0A7388')\n",
    "    ax.set_title(title)\n",
    "    plt.ylabel(y_label)\n",
    "    plt.xlabel(x_label)\n",
    "    plt.show()\n",
    "    \n",
    "def plot_prediction(actual, prediction, title='Yahoo Finance vs Prediction', y_label='Price USD', x_label='Trading Days'):\n",
    "    fig = plt.figure()\n",
    "    ax = fig.add_subplot(111)\n",
    "    # Add labels\n",
    "    plt.ylabel(y_label)\n",
    "    plt.xlabel(x_label)\n",
    "    # Plot actual and predicted close values\n",
    "    plt.plot(actual, '#00FF00', label='Adjusted Close')\n",
    "    plt.plot(prediction, '#0000FF', label='Predicted Close')\n",
    "    # Set title\n",
    "    ax.set_title(title)\n",
    "    ax.legend(loc='upper left')\n",
    "    plt.show()\n"
   ]
  },
  {
   "cell_type": "code",
   "execution_count": 8,
   "metadata": {},
   "outputs": [],
   "source": [
    "#### GET STOCK DATA using TICKER YAHOO FINANCE API ####\n",
    "def get_data_stock(stock_ticker,start_dt,end_dt):\n",
    "\n",
    "    #define the ticker symbol\n",
    "    tickerSymbol = stock_ticker\n",
    "\n",
    "    #get data on this ticker\n",
    "    tickerData = yf.Ticker(tickerSymbol)\n",
    "\n",
    "    #get the historical prices for this ticker\n",
    "    tickerDf = tickerData.history(period='1d', start=start_dt, end=end_dt)\n",
    "\n",
    "    #see your data\n",
    "    tickerDf['Item'] = np.arange(len(tickerDf))\n",
    "    return tickerDf[['Item','Open', 'Close', 'Volume']]\n",
    "\n",
    "#### GET NEWS from NEWS API #####\n",
    "### API KEY : 0b2277b448e44ddbbdb1e4b45dcb8f64 ###\n",
    "\n",
    "def get_news(stock_ticker):\n",
    "    api = NewsApiClient(api_key='0b2277b448e44ddbbdb1e4b45dcb8f64')\n",
    "    j = api.get_everything(q=stock_ticker)\n",
    "    return j\n",
    "\n",
    "def get_news_content(stock_ticker):\n",
    "    news = get_news(stock_ticker)\n",
    "    for i in news['articles']:\n",
    "        print(i['title'])\n",
    "\n"
   ]
  },
  {
   "cell_type": "code",
   "execution_count": 9,
   "metadata": {},
   "outputs": [],
   "source": [
    "##### Function to normalize the data features ####\n",
    "def get_normalised_data(data):\n",
    "    # Initialize a scaler, then apply it to the features\n",
    "    scaler = MinMaxScaler()\n",
    "    numerical = ['Open', 'Close', 'Volume']\n",
    "    data[numerical] = scaler.fit_transform(data[numerical])\n",
    "    return data"
   ]
  },
  {
   "cell_type": "code",
   "execution_count": 10,
   "metadata": {},
   "outputs": [],
   "source": [
    "##### GET RMSE ######\n",
    "def get_rmse(actual,predicted):\n",
    "    return math.sqrt(mean_squared_error(actual,predicted))"
   ]
  },
  {
   "cell_type": "code",
   "execution_count": 11,
   "metadata": {},
   "outputs": [],
   "source": [
    "### SCALING DATA ###\n",
    "def scale_range(x, input_range, target_range):\n",
    "    range = [np.amin(x), np.amax(x)]\n",
    "    x_std = (x - input_range[0]) / (1.0*(input_range[1] - input_range[0]))\n",
    "    x_scaled = x_std * (1.0*(target_range[1] - target_range[0])) + target_range[0]\n",
    "    return x_scaled, range"
   ]
  },
  {
   "cell_type": "code",
   "execution_count": 12,
   "metadata": {},
   "outputs": [],
   "source": [
    "\n",
    "##### TRAIN TEST SPLIT FOR LINEAR REGRESSION #####\n",
    "def train_test_split_linear_regression(stocks):\n",
    "    # Create numpy arrays for features and targets\n",
    "    feature = []\n",
    "    label = []\n",
    "\n",
    "    # Convert dataframe columns to numpy arrays for scikit learn\n",
    "    for index, row in stocks.iterrows():\n",
    "        # print([np.array(row['Item'])])\n",
    "        feature.append([(row['Item'])])\n",
    "        label.append([(row['Close'])])\n",
    "    #print(feature)\n",
    "    #print(label)\n",
    "\n",
    "    # Regularize the feature and target arrays and store min/max of input data for rescaling later\n",
    "    feature_bounds = [min(feature), max(feature)]\n",
    "    feature_bounds = [feature_bounds[0][0], feature_bounds[1][0]]\n",
    "    label_bounds = [min(label), max(label)]\n",
    "    label_bounds = [label_bounds[0][0], label_bounds[1][0]]\n",
    "\n",
    "    feature_scaled, feature_range = scale_range(np.array(feature), input_range=feature_bounds, target_range=[-1.0, 1.0])\n",
    "    label_scaled, label_range = scale_range(np.array(label), input_range=label_bounds, target_range=[-1.0, 1.0])\n",
    "\n",
    "    # Define Test/Train Split 80/20\n",
    "    split = .20\n",
    "    split = int(math.floor(len(stocks['Item']) * split))\n",
    "    ##print(split)\n",
    "    # Set up training and test sets\n",
    "    X_train = feature_scaled[:-split]\n",
    "    X_test = feature_scaled[-split:]\n",
    "\n",
    "    y_train = label_scaled[:-split]\n",
    "    y_test = label_scaled[-split:]\n",
    "\n",
    "    return X_train, X_test, y_train, y_test, label_range\n",
    "    \n",
    "    "
   ]
  },
  {
   "cell_type": "code",
   "execution_count": null,
   "metadata": {},
   "outputs": [],
   "source": []
  },
  {
   "cell_type": "code",
   "execution_count": null,
   "metadata": {},
   "outputs": [],
   "source": []
  },
  {
   "cell_type": "code",
   "execution_count": 13,
   "metadata": {},
   "outputs": [],
   "source": [
    "\n",
    "#### BUILD LINEAR REGRESSION MODEL ####\n",
    "def Linear_RegressionModel(X,y):\n",
    "    linear_mod = linear_model.LinearRegression()\n",
    "    X = np.reshape(X, (X.shape[0], 1))\n",
    "    y = np.reshape(y, (y.shape[0], 1))\n",
    "    linear_mod.fit(X, y)  # fitting the data points in the model\n",
    "    return linear_mod\n",
    "\n",
    "def Linear_model_predict(model, x, label_range):\n",
    "    x = np.reshape(x, (x.shape[0], 1))\n",
    "    #print(x)\n",
    "    predicted_price = model.predict(x)\n",
    "    #print(predicted_price)\n",
    "    predictions_rescaled, re_range = scale_range(predicted_price, input_range=[-1.0, 1.0], target_range=label_range)\n",
    "    #print(predictions_rescaled)\n",
    "    return predicted_price.flatten()\n"
   ]
  },
  {
   "cell_type": "code",
   "execution_count": 14,
   "metadata": {},
   "outputs": [],
   "source": [
    "### SARIMA MODEL GENERATION ###\n",
    "def sarima_model(df_train,df_test,p=1,d=1,q=1):\n",
    "    # Fit auto_arima function\n",
    "    '''stepwise_fit = auto_arima(df_train['Close'] start_p = 1, start_q = 1,\n",
    "                          max_p = 3, max_q = 3, m = 12,\n",
    "                          start_P = 0, seasonal = True,\n",
    "                          d = None, D = 1, trace = True,\n",
    "                          error_action ='ignore',   # we don't want to know if an order does not work\n",
    "                          suppress_warnings = True,  # we don't want convergence warnings\n",
    "                          stepwise = True)           # set to stepwise\n",
    "\n",
    "  \n",
    "    # To print the summary\n",
    "    stepwise_fit.summary()\n",
    "    '''\n",
    "    model = SARIMAX(df_train['Close'],order = (0, 1, 1),seasonal_order =(2, 1, 1, 30))\n",
    "    sarima_model = model.fit()\n",
    "    #print(result.summary())\n",
    "    start = len(df_train)\n",
    "    end = len(df_train) + len(df_test) - 1\n",
    "    df_results = pd.DataFrame()\n",
    "    indexes = df_test.index\n",
    "    print(indexes)\n",
    "    predictions = sarima_model.predict(start, end)\n",
    "    df_results['Date'] = indexes\n",
    "    df_results['Forecast'] = pd.DataFrame(predictions).reset_index().loc[:,'predicted_mean']\n",
    "    df_results['Actual']=df_test.reset_index().loc[:,'Close']\n",
    "    df_results.set_index('Date',inplace=True)\n",
    "    ##print(len(df_results),len(indexes))\n",
    "    ##print(df_results)\n",
    "    df_results.plot(y=[\"Actual\", \"Forecast\"], kind=\"line\")\n",
    "    #predictions.plot(legend = True)\n",
    "    #df_test['Close'].plot(legend = True)\n",
    "       "
   ]
  },
  {
   "cell_type": "code",
   "execution_count": 339,
   "metadata": {},
   "outputs": [],
   "source": []
  },
  {
   "cell_type": "code",
   "execution_count": 15,
   "metadata": {},
   "outputs": [],
   "source": [
    "\n",
    "        \n",
    "\n",
    "\n",
    "##### TRAIN TEST SPLIT FOR LSTM #####\n",
    "def train_test_split_lstm(stocks,history=60):\n",
    "    close_price=stocks.filter(['Close']).values\n",
    "    scaler = MinMaxScaler(feature_range=(0,1))\n",
    "    scaled_data = scaler.fit_transform(close_price)\n",
    "    train_len = math.ceil(0.8*len(close_price))\n",
    "    train_data = scaled_data[0:train_len,:]\n",
    "    test_data = scaled_data[train_len:,:]\n",
    "    x_train = []\n",
    "    y_train = []\n",
    "    x_test = []\n",
    "    y_test = []\n",
    "    \n",
    "    #### Prepare data for sequential Model Train ####\n",
    "    for i in range(history,len(train_data)):\n",
    "        x_train.append(train_data[i-history:i,0])\n",
    "        y_train.append(train_data[i,0])\n",
    "        \n",
    "    #### Prepare data for sequential Model Test ####\n",
    "    for i in range(history,len(test_data)):\n",
    "        x_test.append(test_data[i-history:i,0])\n",
    "        y_test.append(test_data[i,0])\n",
    "    \n",
    "    ### convert to numpy array ###\n",
    "    x_train,y_train = np.array(x_train),np.array(y_train)\n",
    "    x_test,y_test = np.array(x_test),np.array(y_test)\n",
    "    \n",
    "    ### RESHAPE AS expected by LSTM Model (rows,columns,features)\n",
    "    x_train = np.reshape(x_train,(len(x_train),history,1))\n",
    "    x_test = np.reshape(x_test,(len(x_test),history,1))\n",
    "    return x_train,y_train,x_test,y_test,scaler\n",
    "    \n",
    "    \n",
    "    \n",
    "#### BUILD LSTM MODEL USING KERAS ####\n",
    "def build_lstm_model(x_train,y_train):\n",
    "    model = Sequential()\n",
    "    model.add(LSTM(50,return_sequences=True,input_shape=(x_train.shape[1],1)))\n",
    "    model.add(LSTM(50,return_sequences=False))\n",
    "    model.add(Dense(25))\n",
    "    model.add(Dense(1))\n",
    "    model.compile(optimizer='adam',loss='mean_squared_error')\n",
    "    model.fit(x_train,y_train,batch_size=1,epochs=1)\n",
    "    return model\n",
    "\n",
    "def lstm_tuning(stocks):\n",
    "    history = [7,15,30]\n",
    "    rmse = []\n",
    "    actual_price = []\n",
    "    predicted_price = []\n",
    "    #### ITERATE OVER ALL HISTORY ROLLUPS ####\n",
    "    for i in history:\n",
    "        x_train,y_train,x_test,y_test,scaler = train_test_split_lstm(stocks,i)\n",
    "        lstm_model = build_lstm_model(x_train,y_train)\n",
    "        predictions = lstm_model.predict(x_test)\n",
    "        predictions = scaler.inverse_transform(predictions)\n",
    "        actuals = scaler.inverse_transform(np.reshape(y_test,(y_test.shape[0],1)))\n",
    "        predicted_price.append(predictions)\n",
    "        actual_price.append(actual_price)\n",
    "        rmse_tmp = get_rmse(np.array(actuals),np.array(predictions))\n",
    "        rmse.append(rmse_tmp)\n",
    "        print(\"History:\"+str(i)+\", RMSE:\"+str(rmse_tmp))\n",
    "    \n",
    "    ### GET MINIMUM RMSE corresponding history for stock\n",
    "    min_idx = 0;\n",
    "    min_rmse= rmse[0];\n",
    "    for i in range(len(rmse)):\n",
    "        if min_rmse>rmse[i]:\n",
    "            min_rmse=rmse[i]\n",
    "            min_idx=i\n",
    "    \n",
    "    print('BEST LSTM MODEL IS OBTAINED AT History: '+str(history[min_idx])+' with RMSE:'+str(rmse[min_idx]))\n",
    "    \n",
    "    return rmse,history,actual_price,predicted_price,min_idx\n",
    "        \n",
    "        "
   ]
  },
  {
   "cell_type": "code",
   "execution_count": null,
   "metadata": {},
   "outputs": [],
   "source": []
  },
  {
   "cell_type": "code",
   "execution_count": null,
   "metadata": {},
   "outputs": [],
   "source": []
  },
  {
   "cell_type": "code",
   "execution_count": 191,
   "metadata": {},
   "outputs": [],
   "source": []
  },
  {
   "cell_type": "code",
   "execution_count": null,
   "metadata": {},
   "outputs": [],
   "source": []
  },
  {
   "cell_type": "code",
   "execution_count": 16,
   "metadata": {},
   "outputs": [],
   "source": [
    "##### TRAIN TEST SPLIT ######\n",
    "def train_test_split(df,start,end):\n",
    "    train_set = df_stock.loc['2018-01-01': '2021-01-01']\n",
    "    train_set\n",
    "    test_set = df_stock.loc['2021-01-02':]\n",
    "    test_set\n",
    "    print(test_set)"
   ]
  },
  {
   "cell_type": "code",
   "execution_count": 188,
   "metadata": {},
   "outputs": [
    {
     "name": "stdout",
     "output_type": "stream",
     "text": [
      "DatetimeIndex(['2021-01-04', '2021-01-05', '2021-01-06', '2021-01-07',\n",
      "               '2021-01-08', '2021-01-11', '2021-01-12', '2021-01-13',\n",
      "               '2021-01-14', '2021-01-15',\n",
      "               ...\n",
      "               '2021-09-17', '2021-09-20', '2021-09-21', '2021-09-22',\n",
      "               '2021-09-23', '2021-09-24', '2021-09-27', '2021-09-28',\n",
      "               '2021-09-29', '2021-09-30'],\n",
      "              dtype='datetime64[ns]', name='Date', length=188, freq=None)\n"
     ]
    },
    {
     "data": {
      "image/png": "[encoded data removed]",
      "text/plain": [
       "<Figure size 432x288 with 1 Axes>"
      ]
     },
     "metadata": {
      "needs_background": "light"
     },
     "output_type": "display_data"
    }
   ],
   "source": [
    "\n"
   ]
  },
  {
   "cell_type": "code",
   "execution_count": 17,
   "metadata": {},
   "outputs": [
    {
     "name": "stdout",
     "output_type": "stream",
     "text": [
      "            Item         Open        Close    Volume\n",
      "Date                                                \n",
      "2010-01-04     0   136.250000   133.899994   7599900\n",
      "2010-01-05     1   133.429993   134.690002   8851900\n",
      "2010-01-06     2   134.600006   132.250000   7178800\n",
      "2010-01-07     3   132.009995   130.000000  11030200\n",
      "2010-01-08     4   130.559998   133.520004   9830500\n",
      "...          ...          ...          ...       ...\n",
      "2021-09-24  2952  3402.010010  3425.520020   2116200\n",
      "2021-09-27  2953  3371.500000  3405.800049   3634500\n",
      "2021-09-28  2954  3357.709961  3315.959961   4430800\n",
      "2021-09-29  2955  3322.110107  3301.120117   2562300\n",
      "2021-09-30  2956  3316.000000  3285.040039   2842400\n",
      "\n",
      "[2957 rows x 4 columns]\n"
     ]
    }
   ],
   "source": [
    "####### START HERE ###\n",
    "###############################\n",
    "\n",
    "\n",
    "\n",
    "### SET THE VARIABLES TO extract Data #####\n",
    "stock_ticker = 'AMZN'\n",
    "start_dt = '2010-01-01'\n",
    "end_dt = '2021-10-01'\n",
    "\n",
    "\n",
    "\n",
    "### GET TICKER DATA ###\n",
    "df_stock = get_data_stock(stock_ticker,start_dt,end_dt);\n",
    "print(df_stock)\n",
    "\n"
   ]
  },
  {
   "cell_type": "code",
   "execution_count": 344,
   "metadata": {},
   "outputs": [
    {
     "name": "stdout",
     "output_type": "stream",
     "text": [
      "0.6655238088807889\n"
     ]
    },
    {
     "data": {
      "image/png": "[encoded data removed]",
      "text/plain": [
       "<Figure size 432x288 with 1 Axes>"
      ]
     },
     "metadata": {
      "needs_background": "light"
     },
     "output_type": "display_data"
    }
   ],
   "source": [
    "\n",
    "\n",
    "\n",
    "### PLOT STOCK data ###\n",
    "#plot_basic(df_stock)\n",
    "\n",
    "\n",
    "\n",
    "\n",
    "\n",
    "### NORMALIZE DATA for STOCK ###\n",
    "\n",
    "\n",
    "\n",
    "\n",
    "### GENERATE A BASIC LINEAR REGRESSION MODEL ###\n",
    "\n",
    "x_train,x_test,y_train,y_test,yrange = train_test_split_linear_regression(df_stock)\n",
    "#print(\"x_train\", x_train)\n",
    "#print(\"y_train\", y_train)\n",
    "#print(\"x_test\", x_test)\n",
    "#print(\"y_test\", y_test)\n",
    "\n",
    "lm_model = Linear_RegressionModel(x_train,y_train);\n",
    "predictions = Linear_model_predict(lm_model,x_test,yrange)\n",
    "\n",
    "### PLOT BASIC LINEAR REGRESSION MODEL RESULTS ###\n",
    "plot_prediction(y_test,predictions)\n",
    "print(get_rmse(y_test,predictions))\n",
    "\n",
    "\n",
    "\n",
    "\n",
    "\n",
    "\n",
    "\n",
    "\n",
    "\n",
    "\n",
    "\n",
    "\n",
    "\n",
    "\n",
    "\n"
   ]
  },
  {
   "cell_type": "code",
   "execution_count": null,
   "metadata": {},
   "outputs": [],
   "source": [
    "\n",
    "\n",
    "### GENERATE SARIMAX FORECASTING MODEL ###\n",
    "sarima_model(train_set,test_set)\n",
    "\n",
    "\n",
    "#### PLOT SARIMAX RESULTS ####\n",
    "\n",
    "\n",
    "#### CALL SARIMA MODEL ####\n"
   ]
  },
  {
   "cell_type": "code",
   "execution_count": null,
   "metadata": {},
   "outputs": [],
   "source": []
  },
  {
   "cell_type": "code",
   "execution_count": null,
   "metadata": {},
   "outputs": [
    {
     "name": "stdout",
     "output_type": "stream",
     "text": [
      "2359/2359 [==============================] - 12s 4ms/step - loss: 3.8417e-04\n",
      "History:7, RMSE:195.31236114861898\n",
      "2351/2351 [==============================] - 20s 8ms/step - loss: 3.5438e-04\n",
      "History:15, RMSE:94.72764638169626\n",
      "2336/2336 [==============================] - 41s 17ms/step - loss: 3.5269e-04 0s - loss: 3.531\n"
     ]
    }
   ],
   "source": [
    "\n",
    "### GENERATE LSTM MODEL ###    \n",
    "rmse,history,actual_price,predicted_price,min_idx = lstm_tuning(df_stock)\n",
    "\n",
    "### PLOT LSTM RESULTS for optimized ###\n",
    "plot_prediction(actual_price[min_idx],predicted_price[min_idx])\n",
    "\n",
    "\n"
   ]
  },
  {
   "cell_type": "code",
   "execution_count": null,
   "metadata": {},
   "outputs": [],
   "source": [
    "### PLOT LSTM RMSE LOSS CURVE AGAINST History \n",
    "plt.plot(history,rmse)\n",
    "plt.show()"
   ]
  },
  {
   "cell_type": "code",
   "execution_count": null,
   "metadata": {},
   "outputs": [],
   "source": []
  }
 ],
 "metadata": {
  "kernelspec": {
   "display_name": "Python 3",
   "language": "python",
   "name": "python3"
  },
  "language_info": {
   "codemirror_mode": {
    "name": "ipython",
    "version": 3
   },
   "file_extension": ".py",
   "mimetype": "text/x-python",
   "name": "python",
   "nbconvert_exporter": "python",
   "pygments_lexer": "ipython3",
   "version": "3.8.5"
  }
 },
 "nbformat": 4,
 "nbformat_minor": 4
}
